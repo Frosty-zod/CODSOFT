{
  "nbformat": 4,
  "nbformat_minor": 0,
  "metadata": {
    "colab": {
      "provenance": [],
      "authorship_tag": "ABX9TyNs95F1/N4XIn+g6NrjUFFm",
      "include_colab_link": true
    },
    "kernelspec": {
      "name": "python3",
      "display_name": "Python 3"
    },
    "language_info": {
      "name": "python"
    }
  },
  "cells": [
    {
      "cell_type": "markdown",
      "metadata": {
        "id": "view-in-github",
        "colab_type": "text"
      },
      "source": [
        "<a href=\"https://colab.research.google.com/github/Frosty-zod/CODSOFT/blob/main/Abhishek.ipynb\" target=\"_parent\"><img src=\"https://colab.research.google.com/assets/colab-badge.svg\" alt=\"Open In Colab\"/></a>"
      ]
    },
    {
      "cell_type": "markdown",
      "source": [
        "CALCULATOR"
      ],
      "metadata": {
        "id": "81ZSCTWTXaxV"
      }
    },
    {
      "cell_type": "code",
      "source": [
        "def add(x,y):\n",
        "    return x+y\n",
        "def subtract(x,y):\n",
        "    return x-y\n",
        "def multiply(x,y):\n",
        "    return x*y\n",
        "def divide(x,y):\n",
        "    return x/y\n",
        "print(\"Select Operation\")\n",
        "print(\"1.Add\")\n",
        "print(\"2.Subtract\")\n",
        "print(\"3.Multiply\")\n",
        "print(\"4.Divide\")\n",
        "while True:\n",
        "    choice = input(\"Enter your choice(1,2,3,4): \")\n",
        "    if choice in('1','2','3','4'):\n",
        "        num1 = int(input(\"Enter your first number: \"))\n",
        "        num2 = int(input(\"Enter your second number: \"))\n",
        "        if choice == '1':\n",
        "            print(num1, \"+\", num2 , \"=\", add(num1, num2))\n",
        "        if choice == '2':\n",
        "            print(num1, \"-\", num2, \"=\", subtract(num1, num2))\n",
        "        if choice == '3':\n",
        "            print(num1, \"*\", num2, \"=\", multiply(num1, num2))\n",
        "        if choice == '4':\n",
        "            print(num1, \"/\", num2, \"=\", divide(num1, num2))\n",
        "        next_calculation = input(\"Let's do more calculation? (Yes/No): \")\n",
        "        if next_calculation==\"No\":\n",
        "            break\n",
        "    else:\n",
        "        print(\"Invalid Input Plese try again\")"
      ],
      "metadata": {
        "colab": {
          "base_uri": "https://localhost:8080/"
        },
        "id": "wDJmo7myXgoE",
        "outputId": "2da8d774-f7f1-4867-e4fc-4084967c0bdf"
      },
      "execution_count": 3,
      "outputs": [
        {
          "name": "stdout",
          "output_type": "stream",
          "text": [
            "Select Operation\n",
            "1.Add\n",
            "2.Subtract\n",
            "3.Multiply\n",
            "4.Divide\n",
            "Enter your choice(1,2,3,4): 1\n",
            "Enter your first number: 100\n",
            "Enter your second number: 200\n",
            "100 + 200 = 300\n",
            "Let's do more calculation? (Yes/No): No\n"
          ]
        }
      ]
    },
    {
      "cell_type": "markdown",
      "source": [
        "PASSWORD GENERATOR"
      ],
      "metadata": {
        "id": "5OS1kf1d3Bgu"
      }
    },
    {
      "cell_type": "code",
      "source": [
        "\n",
        "import random\n",
        "print(\"Password Generator !\")\n",
        "length = int(input(\"Enter the length of password: \"))\n",
        "upper_case = \"ABCDEFGHIJKLMNOPQRSTUVWXYZ\"\n",
        "lower_case = \"abcdefghijklmnopqrstuvwxyz\"\n",
        "numbers = \"0123456789\"\n",
        "symbols = \"!@#$%^&*().?\"\n",
        "string = lower_case + upper_case + symbols + numbers\n",
        "password = \"\".join(random.sample(string, length))\n",
        "print(\"Your Password is:\" + password)"
      ],
      "metadata": {
        "colab": {
          "base_uri": "https://localhost:8080/"
        },
        "id": "97Czq4KB5VzV",
        "outputId": "b2c3b7f2-9386-4a3a-8e8e-c95a17b71b64"
      },
      "execution_count": 4,
      "outputs": [
        {
          "output_type": "stream",
          "name": "stdout",
          "text": [
            "Password Generator !\n",
            "Enter the length of password: 10\n",
            "Your Password is:4xRhdzlCYW\n"
          ]
        }
      ]
    },
    {
      "cell_type": "markdown",
      "source": [
        "CONTACT BOOK"
      ],
      "metadata": {
        "id": "KsjoFT8_Ec1K"
      }
    },
    {
      "cell_type": "code",
      "source": [
        "contacts = []\n",
        "\n",
        "def add_contact():\n",
        "    name = input(\"Enter name: \")\n",
        "    phone = input(\"Enter phone number: \")\n",
        "    email = input(\"Enter email: \")\n",
        "    address = input(\"Enter address: \")\n",
        "    contacts.append({\n",
        "        \"name\": name,\n",
        "        \"phone\": phone,\n",
        "        \"email\": email,\n",
        "        \"address\": address\n",
        "    })\n",
        "    print(\"Contact added!\")\n",
        "\n",
        "def view_contacts():\n",
        "    if not contacts:\n",
        "        print(\"No contacts found.\")\n",
        "    else:\n",
        "        for idx, c in enumerate(contacts, start=1):\n",
        "            print(f\"\\nContact {idx}\")\n",
        "            print(\"Name:\", c[\"name\"])\n",
        "            print(\"Phone:\", c[\"phone\"])\n",
        "            print(\"Email:\", c[\"email\"])\n",
        "            print(\"Address:\", c[\"address\"])\n",
        "\n",
        "def search_contact():\n",
        "    term = input(\"Enter name or phone to search: \").lower()\n",
        "    found = False\n",
        "    for c in contacts:\n",
        "        if term in c[\"name\"].lower() or term in c[\"phone\"]:\n",
        "            print(\"\\nContact found:\")\n",
        "            print(\"Name:\", c[\"name\"])\n",
        "            print(\"Phone:\", c[\"phone\"])\n",
        "            print(\"Email:\", c[\"email\"])\n",
        "            print(\"Address:\", c[\"address\"])\n",
        "            found = True\n",
        "    if not found:\n",
        "        print(\"No matching contact found.\")\n",
        "\n",
        "def update_contact():\n",
        "    term = input(\"Enter name of contact to update: \").lower()\n",
        "    for c in contacts:\n",
        "        if term == c[\"name\"].lower():\n",
        "            c[\"phone\"] = input(\"Enter new phone: \")\n",
        "            c[\"email\"] = input(\"Enter new email: \")\n",
        "            c[\"address\"] = input(\"Enter new address: \")\n",
        "            print(\"Contact updated!\")\n",
        "            return\n",
        "    print(\"Contact not found.\")\n",
        "\n",
        "def delete_contact():\n",
        "    term = input(\"Enter name of contact to delete: \").lower()\n",
        "    for i, c in enumerate(contacts):\n",
        "        if term == c[\"name\"].lower():\n",
        "            contacts.pop(i)\n",
        "            print(\"Contact deleted!\")\n",
        "            return\n",
        "    print(\"Contact not found.\")\n",
        "\n",
        "while True:\n",
        "    print(\"\\n--- Contact Book ---\")\n",
        "    print(\"1. Add Contact\")\n",
        "    print(\"2. View Contacts\")\n",
        "    print(\"3. Search Contact\")\n",
        "    print(\"4. Update Contact\")\n",
        "    print(\"5. Delete Contact\")\n",
        "    print(\"6. Exit\")\n",
        "\n",
        "    choice = input(\"Enter your choice (1-6): \")\n",
        "\n",
        "    if choice == \"1\":\n",
        "        add_contact()\n",
        "    elif choice == \"2\":\n",
        "        view_contacts()\n",
        "    elif choice == \"3\":\n",
        "        search_contact()\n",
        "    elif choice == \"4\":\n",
        "        update_contact()\n",
        "    elif choice == \"5\":\n",
        "        delete_contact()\n",
        "    elif choice == \"6\":\n",
        "        print(\"Goodbye!\")\n",
        "        break\n",
        "    else:\n",
        "        print(\"Invalid choice. Try again.\")"
      ],
      "metadata": {
        "colab": {
          "base_uri": "https://localhost:8080/"
        },
        "id": "YMHAA3PTEiWJ",
        "outputId": "c3d017b9-e027-41d1-f9c9-32fac8e5bbc6"
      },
      "execution_count": null,
      "outputs": [
        {
          "output_type": "stream",
          "name": "stdout",
          "text": [
            "\n",
            "--- Contact Book ---\n",
            "1. Add Contact\n",
            "2. View Contacts\n",
            "3. Search Contact\n",
            "4. Update Contact\n",
            "5. Delete Contact\n",
            "6. Exit\n",
            "Enter your choice (1-6): 1\n",
            "Enter name: mikey\n",
            "Enter phone number: 686578679\n",
            "Enter email: mikry@gmail.com\n",
            "Enter address: london america\n",
            "Contact added!\n",
            "\n",
            "--- Contact Book ---\n",
            "1. Add Contact\n",
            "2. View Contacts\n",
            "3. Search Contact\n",
            "4. Update Contact\n",
            "5. Delete Contact\n",
            "6. Exit\n",
            "Enter your choice (1-6): 6\n",
            "Goodbye!\n"
          ]
        }
      ]
    }
  ]
}