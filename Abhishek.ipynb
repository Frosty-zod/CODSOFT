{
  "nbformat": 4,
  "nbformat_minor": 0,
  "metadata": {
    "colab": {
      "provenance": [],
      "authorship_tag": "ABX9TyO+lrVnVtx6KvDrn7OE7DW1",
      "include_colab_link": true
    },
    "kernelspec": {
      "name": "python3",
      "display_name": "Python 3"
    },
    "language_info": {
      "name": "python"
    }
  },
  "cells": [
    {
      "cell_type": "markdown",
      "metadata": {
        "id": "view-in-github",
        "colab_type": "text"
      },
      "source": [
        "<a href=\"https://colab.research.google.com/github/Frosty-zod/CODSOFT/blob/main/Abhishek.ipynb\" target=\"_parent\"><img src=\"https://colab.research.google.com/assets/colab-badge.svg\" alt=\"Open In Colab\"/></a>"
      ]
    },
    {
      "cell_type": "markdown",
      "source": [
        "CALCULATOR"
      ],
      "metadata": {
        "id": "81ZSCTWTXaxV"
      }
    },
    {
      "cell_type": "code",
      "source": [
        "def add(x, y):\n",
        "    return x + y\n",
        "def subtract(x, y):\n",
        "    return x - y\n",
        "def multiply(x, y):\n",
        "    return x * y\n",
        "def divide(x, y):\n",
        "    return x / y\n",
        "print(\"Select operation:\")\n",
        "print(\"1. Addition\")\n",
        "print(\"2. Subtraction\")\n",
        "print(\"3. Multiplication\")\n",
        "print(\"4. Division\")\n",
        "choice = input(\"Enter choice (1/2/3/4): \")\n",
        "num1 = float(input(\"Enter first number: \"))\n",
        "num2 = float(input(\"Enter second number: \"))\n",
        "if choice == '1':\n",
        "    print(f\"{num1} + {num2} = {add(num1, num2)}\")\n",
        "elif choice == '2':\n",
        "    print(f\"{num1} - {num2} = {subtract(num1, num2)}\")\n",
        "elif choice == '3':\n",
        "    print(f\"{num1} * {num2} = {multiply(num1, num2)}\")\n",
        "elif choice == '4':\n",
        "    if num2 != 0:\n",
        "        print(f\"{num1} / {num2} = {divide(num1, num2)}\")\n",
        "    else:\n",
        "        print(\"Error! Division by zero is not allowed.\")\n",
        "else:\n",
        "    print(\"Invalid input! Please choose a valid operation.\")"
      ],
      "metadata": {
        "colab": {
          "base_uri": "https://localhost:8080/"
        },
        "id": "wDJmo7myXgoE",
        "outputId": "a65321f4-de53-4871-d99e-5c786b8d8c90"
      },
      "execution_count": null,
      "outputs": [
        {
          "output_type": "stream",
          "name": "stdout",
          "text": [
            "Select operation:\n",
            "1. Addition\n",
            "2. Subtraction\n",
            "3. Multiplication\n",
            "4. Division\n",
            "Enter choice (1/2/3/4): 1\n",
            "Enter first number: 10\n",
            "Enter second number: 20\n",
            "10.0 + 20.0 = 30.0\n"
          ]
        }
      ]
    },
    {
      "cell_type": "markdown",
      "source": [
        "PASSWORD GENERATOR"
      ],
      "metadata": {
        "id": "5OS1kf1d3Bgu"
      }
    },
    {
      "cell_type": "code",
      "source": [
        "import random\n",
        "import string\n",
        "\n",
        "print(\"Password Generator!\")\n",
        "\n",
        "length = int(input(\"Enter the desired password length: \"))\n",
        "\n",
        "characters = string.ascii_letters + string.digits + string.punctuation\n",
        "\n",
        "password = ''.join(random.choice(characters) for _ in range(length))\n",
        "\n",
        "print(f\"Generated Password: {password}\")\n"
      ],
      "metadata": {
        "colab": {
          "base_uri": "https://localhost:8080/"
        },
        "id": "97Czq4KB5VzV",
        "outputId": "4a01506c-9e30-4c03-c4fd-926e150b43bc"
      },
      "execution_count": null,
      "outputs": [
        {
          "output_type": "stream",
          "name": "stdout",
          "text": [
            "Password Generator!\n",
            "Enter the desired password length: 10\n",
            "Generated Password: vuq_1fGoG{\n"
          ]
        }
      ]
    },
    {
      "cell_type": "markdown",
      "source": [
        "CONTACT BOOK"
      ],
      "metadata": {
        "id": "KsjoFT8_Ec1K"
      }
    },
    {
      "cell_type": "code",
      "source": [
        "contacts = []\n",
        "\n",
        "def add_contact():\n",
        "    name = input(\"Enter name: \")\n",
        "    phone = input(\"Enter phone number: \")\n",
        "    email = input(\"Enter email: \")\n",
        "    address = input(\"Enter address: \")\n",
        "    contacts.append({\n",
        "        \"name\": name,\n",
        "        \"phone\": phone,\n",
        "        \"email\": email,\n",
        "        \"address\": address\n",
        "    })\n",
        "    print(\"Contact added!\")\n",
        "\n",
        "def view_contacts():\n",
        "    if not contacts:\n",
        "        print(\"No contacts found.\")\n",
        "    else:\n",
        "        for idx, c in enumerate(contacts, start=1):\n",
        "            print(f\"\\nContact {idx}\")\n",
        "            print(\"Name:\", c[\"name\"])\n",
        "            print(\"Phone:\", c[\"phone\"])\n",
        "            print(\"Email:\", c[\"email\"])\n",
        "            print(\"Address:\", c[\"address\"])\n",
        "\n",
        "def search_contact():\n",
        "    term = input(\"Enter name or phone to search: \").lower()\n",
        "    found = False\n",
        "    for c in contacts:\n",
        "        if term in c[\"name\"].lower() or term in c[\"phone\"]:\n",
        "            print(\"\\nContact found:\")\n",
        "            print(\"Name:\", c[\"name\"])\n",
        "            print(\"Phone:\", c[\"phone\"])\n",
        "            print(\"Email:\", c[\"email\"])\n",
        "            print(\"Address:\", c[\"address\"])\n",
        "            found = True\n",
        "    if not found:\n",
        "        print(\"No matching contact found.\")\n",
        "\n",
        "def update_contact():\n",
        "    term = input(\"Enter name of contact to update: \").lower()\n",
        "    for c in contacts:\n",
        "        if term == c[\"name\"].lower():\n",
        "            c[\"phone\"] = input(\"Enter new phone: \")\n",
        "            c[\"email\"] = input(\"Enter new email: \")\n",
        "            c[\"address\"] = input(\"Enter new address: \")\n",
        "            print(\"Contact updated!\")\n",
        "            return\n",
        "    print(\"Contact not found.\")\n",
        "\n",
        "def delete_contact():\n",
        "    term = input(\"Enter name of contact to delete: \").lower()\n",
        "    for i, c in enumerate(contacts):\n",
        "        if term == c[\"name\"].lower():\n",
        "            contacts.pop(i)\n",
        "            print(\"Contact deleted!\")\n",
        "            return\n",
        "    print(\"Contact not found.\")\n",
        "\n",
        "while True:\n",
        "    print(\"\\n--- Contact Book ---\")\n",
        "    print(\"1. Add Contact\")\n",
        "    print(\"2. View Contacts\")\n",
        "    print(\"3. Search Contact\")\n",
        "    print(\"4. Update Contact\")\n",
        "    print(\"5. Delete Contact\")\n",
        "    print(\"6. Exit\")\n",
        "\n",
        "    choice = input(\"Enter your choice (1-6): \")\n",
        "\n",
        "    if choice == \"1\":\n",
        "        add_contact()\n",
        "    elif choice == \"2\":\n",
        "        view_contacts()\n",
        "    elif choice == \"3\":\n",
        "        search_contact()\n",
        "    elif choice == \"4\":\n",
        "        update_contact()\n",
        "    elif choice == \"5\":\n",
        "        delete_contact()\n",
        "    elif choice == \"6\":\n",
        "        print(\"Goodbye!\")\n",
        "        break\n",
        "    else:\n",
        "        print(\"Invalid choice. Try again.\")\n"
      ],
      "metadata": {
        "colab": {
          "base_uri": "https://localhost:8080/"
        },
        "id": "YMHAA3PTEiWJ",
        "outputId": "a6c69268-d85a-417c-cc61-bea9bf07689e"
      },
      "execution_count": null,
      "outputs": [
        {
          "output_type": "stream",
          "name": "stdout",
          "text": [
            "\n",
            "--- Contact Book ---\n",
            "1. Add Contact\n",
            "2. View Contacts\n",
            "3. Search Contact\n",
            "4. Update Contact\n",
            "5. Delete Contact\n",
            "6. Exit\n",
            "Enter your choice (1-6): 1\n",
            "Enter name: mikey\n",
            "Enter phone number: 7838383898\n",
            "Enter email: mikeykun@gmail.com\n",
            "Enter address: london,america\n",
            "Contact added!\n",
            "\n",
            "--- Contact Book ---\n",
            "1. Add Contact\n",
            "2. View Contacts\n",
            "3. Search Contact\n",
            "4. Update Contact\n",
            "5. Delete Contact\n",
            "6. Exit\n",
            "Enter your choice (1-6): 6\n",
            "Goodbye!\n"
          ]
        }
      ]
    }
  ]
}